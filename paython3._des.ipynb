{
  "cells": [
    {
      "cell_type": "code",
      "execution_count": 1,
      "metadata": {
        "colab": {
          "base_uri": "https://localhost:8080/"
        },
        "id": "ei0p68sI0ivD",
        "outputId": "eac03fcd-9f34-448c-bff2-b97ebc91a049"
      },
      "outputs": [
        {
          "name": "stdout",
          "output_type": "stream",
          "text": [
            "x,5'ten büyüktür.\n"
          ]
        }
      ],
      "source": [
        "#if koşul yapısı\n",
        "x=10\n",
        "if x>5:\n",
        "  print(\"x,5'ten büyüktür.\")"
      ]
    },
    {
      "cell_type": "code",
      "execution_count": 3,
      "metadata": {
        "colab": {
          "base_uri": "https://localhost:8080/"
        },
        "id": "52ijY09r0jRC",
        "outputId": "57aeaa29-e6b2-4838-bd1b-89610a2091a6"
      },
      "outputs": [
        {
          "name": "stdout",
          "output_type": "stream",
          "text": [
            "x 5'ten küçük veya eşittir.\n"
          ]
        }
      ],
      "source": [
        "#if-else koşulu yapısı\n",
        "x=3\n",
        "if x>5:\n",
        "  print(\"x 5'ten büyüktür\")\n",
        "else:\n",
        "  print(\"x 5'ten küçük veya eşittir.\")\n"
      ]
    },
    {
      "cell_type": "code",
      "execution_count": 4,
      "metadata": {
        "colab": {
          "base_uri": "https://localhost:8080/"
        },
        "id": "rbmrjk2q0jVh",
        "outputId": "2cfffd64-e7db-4542-f5cc-62c9954103ce"
      },
      "outputs": [
        {
          "name": "stdout",
          "output_type": "stream",
          "text": [
            "x 5'ten büyüktür ama 10'dan küçük veya eşittir.\n"
          ]
        }
      ],
      "source": [
        "#if-elif-lse koşul yapısı\n",
        "x=8\n",
        "if x>10:\n",
        "  print(\"x 10'dan büyüktür.\")\n",
        "elif x>5:\n",
        "  print(\"x 5'ten büyüktür ama 10'dan küçük veya eşittir.\")\n",
        "else:\n",
        "  print(\"x 5'ten küçük veya eşittir.\")"
      ]
    },
    {
      "cell_type": "code",
      "execution_count": 5,
      "metadata": {
        "colab": {
          "base_uri": "https://localhost:8080/"
        },
        "id": "bjUJglg50jZ5",
        "outputId": "3ad9b6eb-43d4-4a61-af49-d6f5117b527e"
      },
      "outputs": [
        {
          "name": "stdout",
          "output_type": "stream",
          "text": [
            "x 10'dan büyük ve y, 5'ten büyüktür.\n"
          ]
        }
      ],
      "source": [
        "#iç içe koşul yapısı\n",
        "x=12\n",
        "y=8\n",
        "if x>10:\n",
        "  if y>5:\n",
        "    print(\"x 10'dan büyük ve y, 5'ten büyüktür.\")\n",
        "  else:\n",
        "    print(\"x 10'dan büyük ama y 5'ten küçük veya eşittir.\")\n",
        "else:\n",
        "    print(\"x 10'dan küçük veya eşittir.\")\n"
      ]
    },
    {
      "cell_type": "code",
      "execution_count": 7,
      "metadata": {
        "colab": {
          "base_uri": "https://localhost:8080/"
        },
        "id": "uvJs9JeRLJfZ",
        "outputId": "0da354ab-861f-46ef-8ea8-dcb81720a643"
      },
      "outputs": [
        {
          "name": "stdout",
          "output_type": "stream",
          "text": [
            "x 5'ten büyük ve y 2'den büyüktür.\n",
            "x veya y 5 ten büyüktür.\n",
            "x 10'dan büyük değildir.\n"
          ]
        }
      ],
      "source": [
        "#Mantıksal operatörler ile Koşullar\n",
        "x=7\n",
        "y=3\n",
        "if x>5 and y>2:\n",
        "  print(\"x 5'ten büyük ve y 2'den büyüktür.\")\n",
        "if x>5 or y>5:\n",
        "  print(\"x veya y 5 ten büyüktür.\")\n",
        "if not (x>10):\n",
        "   print(\"x 10'dan büyük değildir.\")"
      ]
    },
    {
      "cell_type": "code",
      "execution_count": 1,
      "metadata": {
        "colab": {
          "base_uri": "https://localhost:8080/"
        },
        "id": "z_q6yvD1LJmh",
        "outputId": "2da6872e-7153-4a87-d9c3-ea7c4139e331"
      },
      "outputs": [
        {
          "name": "stdout",
          "output_type": "stream",
          "text": [
            "Harf notu:B\n"
          ]
        }
      ],
      "source": [
        "#örnek 1:Not sistemi\n",
        "notu=85\n",
        "if notu>=90:\n",
        "    print(\"Harf notu:A\")\n",
        "elif notu>=80:\n",
        "    print(\"Harf notu:B\")\n",
        "elif notu>70:\n",
        "    print(\"Harf notu:C\")\n",
        "elif notu>60:\n",
        "    print(\"Harf notu:D\")\n",
        "else:\n",
        "  print(\"Harf notu:F\")"
      ]
    },
    {
      "cell_type": "code",
      "execution_count": 2,
      "metadata": {
        "colab": {
          "base_uri": "https://localhost:8080/"
        },
        "id": "hlsI4raHUPOx",
        "outputId": "1a4f2ac7-cb6b-4d53-9fd2-50972619ec5e"
      },
      "outputs": [
        {
          "name": "stdout",
          "output_type": "stream",
          "text": [
            "Reşitsiniz ama içecek satın alamazsınız.\n"
          ]
        }
      ],
      "source": [
        "#ÖRNEK 2:Yaş Kontrolü\n",
        "yas=20\n",
        "if yas <18:\n",
        "  print(\"Reşit değilsiniz.\")\n",
        "elif yas >=18:\n",
        "  print(\"Reşitsiniz ama içecek satın alamazsınız.\")\n",
        "else:\n",
        "  print(\"İçecek satın alabilirsiniz\")\n"
      ]
    },
    {
      "cell_type": "code",
      "execution_count": 4,
      "metadata": {
        "colab": {
          "base_uri": "https://localhost:8080/"
        },
        "id": "aLtiRfjCVHvQ",
        "outputId": "0ad7eb0a-5f7a-4271-b637-b7cd6e51ce4b"
      },
      "outputs": [
        {
          "name": "stdout",
          "output_type": "stream",
          "text": [
            "Sayı negatiftir.\n"
          ]
        }
      ],
      "source": [
        "#Örnek 3:Sayı pozitif,Negatif veya Sıfır mı?\n",
        "sayi=-5\n",
        "if sayi>0:\n",
        "  print(\"Sayı pozitiftir.\")\n",
        "elif sayi<0:\n",
        "  print(\"Sayı negatiftir.\")\n",
        "else:(\"Sayı sıfırdır.\")\n"
      ]
    }
  ],
  "metadata": {
    "colab": {
      "provenance": []
    },
    "kernelspec": {
      "display_name": "Python 3",
      "name": "python3"
    },
    "language_info": {
      "name": "python"
    }
  },
  "nbformat": 4,
  "nbformat_minor": 0
}
